{
 "cells": [
  {
   "cell_type": "code",
   "execution_count": null,
   "metadata": {},
   "outputs": [],
   "source": [
    "from neuprint import Client\n",
    "\n",
    "with open('auth_token.txt', 'r') as f:\n",
    "    token = f.read()\n",
    "\n",
    "c = Client('neuprint.janelia.org', dataset='manc:v1.0', token=token)\n",
    "c.fetch_version()"
   ]
  },
  {
   "cell_type": "code",
   "execution_count": null,
   "metadata": {},
   "outputs": [],
   "source": [
    "from neuprint import NeuronCriteria as NC\n",
    "from neuprint import fetch_neurons\n",
    "import pandas as pd\n",
    "\n",
    "neuron_df, _ = fetch_neurons(NC(inputRois=['ANm'], outputRois=['ANm'], status='Traced', entryNerve = None, exitNerve=None))\n",
    "\n",
    "# Only those entirely in the ANm\n",
    "amn_local = neuron_df[\n",
    "    neuron_df.apply(\n",
    "        lambda row: (\n",
    "            (row['inputRois'] == ['ANm'])\n",
    "            and (row['outputRois'] == ['ANm'])\n",
    "            and (row['entryNerve'] == None))\n",
    "            and (row['exitNerve'] == None),\n",
    "        axis=1\n",
    "    )\n",
    "]"
   ]
  },
  {
   "cell_type": "markdown",
   "metadata": {},
   "source": []
  },
  {
   "cell_type": "code",
   "execution_count": null,
   "metadata": {},
   "outputs": [],
   "source": [
    "roi_mesh = c.fetch_roi_mesh('ANm')"
   ]
  },
  {
   "cell_type": "code",
   "execution_count": null,
   "metadata": {},
   "outputs": [],
   "source": [
    "import bokeh.palettes\n",
    "from bokeh.models import Range1d\n",
    "from bokeh.plotting import figure, show, output_notebook\n",
    "import numpy as np\n",
    "from neuprint import fetch_synapses\n",
    "from neuprint import SynapseCriteria as SC\n",
    "output_notebook()\n",
    "\n",
    "NEURON_INDEX = 286\n",
    "\n",
    "CINNABAR = '#db544b'\n",
    "LAPIS = '#2d66a5'\n",
    "BYZANTINE = '#D342BE'\n",
    "SHAMROCK = '#33A358'\n",
    "\n",
    "def plot_neurons(source_df, idx : int):\n",
    "\n",
    "    skelee = c.fetch_skeleton(source_df.iloc[idx]['bodyId'])\n",
    "\n",
    "    skelee.radius = skelee.radius.astype(float)/(20)\n",
    "    # Join parent/child nodes for plotting as line segments below.\n",
    "    # (Using each row's 'link' (parent) ID, find the row with matching rowId.)\n",
    "    skelee = skelee.merge(skelee, 'inner',\n",
    "                            left_on=['link'],\n",
    "                            right_on=['rowId'],\n",
    "                            suffixes=['_child', '_parent'])\n",
    "    p = figure(\n",
    "        title = 'Body ID: ' + str(source_df.iloc[idx]['bodyId'])\n",
    "            + f'(Ach : {round(source_df.iloc[idx][\"ntAcetylcholineProb\"],2)}, '\n",
    "            + f'Glu : {round(source_df.iloc[idx][\"ntGlutamateProb\"],2)}, '\n",
    "            + f'GABA: {round(source_df.iloc[idx][\"ntGabaProb\"],2)})',\n",
    "        match_aspect = True\n",
    "    )\n",
    "    p.y_range.flipped = False\n",
    "\n",
    "    axes = [0,2]\n",
    "    verts = np.array([[float(row.split(' ')[axes[0]+1]),float(row.split(' ')[axes[1]+1])] for row in str(roi_mesh).split('\\\\n') if row.startswith('v') ])\n",
    "    speckle_size = 1.0\n",
    "    fill_color = '#666666'\n",
    "    fill_alpha = 0.3\n",
    "    p.scatter(verts[:,0],verts[:,1],size=speckle_size,line_alpha=0.0, fill_color = (0,0,0), fill_alpha = 0.5)\n",
    "\n",
    "\n",
    "    # Plot skeleton segments (in 2D)\n",
    "    p.segment(x0='x_child', x1='x_parent',\n",
    "            y0='z_child', y1='z_parent',\n",
    "            line_width = 'radius_parent',\n",
    "            alpha = 0.8,\n",
    "            color = '#19657F',\n",
    "            #color='color_child',\n",
    "            source=skelee)\n",
    "    \n",
    "    syns = fetch_synapses(NC(bodyId=source_df.iloc[idx]['bodyId']))\n",
    "    pre = syns.loc[syns['type'] == 'pre']\n",
    "    p.scatter(\n",
    "        pre['x'], pre['z'], size = 3, fill_color=BYZANTINE, fill_alpha = 0.9, line_color = None, line_alpha = 0.0, line_width=0\n",
    "    )\n",
    "    post = syns.loc[syns['type'] == 'post']\n",
    "    p.scatter(\n",
    "        post['x'], post['z'], size = 3, fill_color=SHAMROCK, fill_alpha = 0.8, line_color=None, line_width = 0,\n",
    "    )\n",
    "\n",
    "    p.renderers.insert(0,p.renderers.pop())\n",
    "\n",
    "    p.y_range = Range1d(0,20000)\n",
    "    p.x_range = Range1d(18000,30000)\n",
    "    p.xgrid.visible = False\n",
    "    p.ygrid.visible = False\n",
    "    return p\n",
    "\n",
    "from bokeh.plotting import gridplot\n",
    "\n",
    "from bokeh.plotting import output_file\n",
    "from bokeh.io import export_png\n",
    "\n",
    "#output_file(filename='/Users/stephen/Desktop/Data/SICode/manc/some_neurons.png')\n",
    "# make a grid\n",
    "\n",
    "for idx in range(0,len(neuron_df),10):\n",
    "    grid = gridplot([[plot_neurons(neuron_df,idx + 2*row_num), plot_neurons(neuron_df, idx + 2*row_num+1)] for row_num in range(5)])\n",
    "\n",
    "    export_png(grid, filename=f\"/Users/stephen/Desktop/Data/SICode/manc/Any_AG/some_neurons_{idx}.png\")\n",
    "\n",
    "\n",
    "# Also plot the synapses from the above example\n",
    "#p.scatter(points['x_post'], points['z_post'], color=points['color'])\n",
    "\n"
   ]
  },
  {
   "cell_type": "code",
   "execution_count": null,
   "metadata": {},
   "outputs": [],
   "source": [
    "import numpy as np\n",
    "import matplotlib.pyplot as plt\n",
    "plt.hist(amn_local[['ntAcetylcholineProb','ntGlutamateProb', 'ntGabaProb']].apply(lambda x : -np.sum(x*np.log2(x)),axis=1), bins = 30)"
   ]
  },
  {
   "cell_type": "code",
   "execution_count": null,
   "metadata": {},
   "outputs": [],
   "source": [
    "neuron_df.loc[neuron_df['bodyId'] == 17897][['ntAcetylcholineProb', 'ntGabaProb','ntGlutamateProb']]"
   ]
  },
  {
   "cell_type": "code",
   "execution_count": null,
   "metadata": {},
   "outputs": [],
   "source": [
    "ambiguous = neuron_df.loc[(neuron_df['predictedNtProb'] < 0.5)]\n",
    "\n",
    "ambiguous[ambiguous.apply(\n",
    "        lambda row: (\n",
    "            (row['inputRois'] == ['ANm'])\n",
    "            and (row['outputRois'] == ['ANm'])\n",
    "            and (row['entryNerve'] == None))\n",
    "            and (row['exitNerve'] == None),\n",
    "        axis=1\n",
    "    )\n",
    "]\n",
    "\n",
    "\n",
    "for idx in range(0,len(ambiguous),10):\n",
    "    grid = gridplot([[plot_neurons(ambiguous,idx + 2*row_num), plot_neurons(ambiguous, idx + 2*row_num+1)] for row_num in range(5)])\n",
    "\n",
    "    export_png(grid, filename=f\"/Users/stephen/Desktop/Data/SICode/manc/ambiguous_neurons/some_neurons_{idx}.png\")"
   ]
  },
  {
   "cell_type": "code",
   "execution_count": null,
   "metadata": {},
   "outputs": [],
   "source": [
    "import bokeh.palettes\n",
    "from bokeh.models import Range1d\n",
    "from bokeh.plotting import figure, show, output_notebook\n",
    "import numpy as np\n",
    "from neuprint import fetch_synapses\n",
    "from neuprint import SynapseCriteria as SC\n",
    "\n",
    "syns = fetch_synapses(neuron_df.iloc[500]['bodyId'])\n",
    "\n",
    "syns.loc[syns['type'] == 'post']"
   ]
  },
  {
   "cell_type": "code",
   "execution_count": null,
   "metadata": {},
   "outputs": [],
   "source": [
    "axes = [0,2]\n",
    "verts = np.array([[float(row.split(' ')[axes[0]+1]),float(row.split(' ')[axes[1]+1])] for row in str(roi_mesh).split('\\\\n') if row.startswith('v') ])\n",
    "speckle_size = 0.5\n",
    "fill_color = '#AAAAAA',\n",
    "fill_alpha = 0.4\n",
    "p.scatter(verts[:,0],verts[:,1],size=speckle_size,color=fill_color,alpha=fill_alpha,line_alpha=0.0)\n",
    "\n",
    "p.renderers.insert(0,p.renderers.pop())"
   ]
  },
  {
   "cell_type": "code",
   "execution_count": null,
   "metadata": {},
   "outputs": [],
   "source": [
    "from scipy import datasets\n",
    "\n",
    "f = datasets.face()"
   ]
  },
  {
   "cell_type": "code",
   "execution_count": null,
   "metadata": {},
   "outputs": [],
   "source": [
    "neuron_df[neuron_df['bodyId'] == 14371]"
   ]
  },
  {
   "cell_type": "code",
   "execution_count": null,
   "metadata": {},
   "outputs": [],
   "source": []
  }
 ],
 "metadata": {
  "kernelspec": {
   "display_name": "Python 3",
   "language": "python",
   "name": "python3"
  },
  "language_info": {
   "codemirror_mode": {
    "name": "ipython",
    "version": 3
   },
   "file_extension": ".py",
   "mimetype": "text/x-python",
   "name": "python",
   "nbconvert_exporter": "python",
   "pygments_lexer": "ipython3",
   "version": "3.9.18"
  },
  "orig_nbformat": 4
 },
 "nbformat": 4,
 "nbformat_minor": 2
}
